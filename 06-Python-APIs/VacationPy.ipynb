{
 "cells": [
  {
   "cell_type": "markdown",
   "metadata": {},
   "source": [
    "# VacationPy\n",
    "----\n",
    "\n",
    "#### Note\n",
    "* Instructions have been included for each segment. You do not have to follow them exactly, but they are included to help you think through the steps."
   ]
  },
  {
   "cell_type": "code",
   "execution_count": 1,
   "metadata": {},
   "outputs": [],
   "source": [
    "# Dependencies and Setup\n",
    "#!pip install gmaps\n",
    "\n",
    "# enable jupyter extensions\n",
    "#!jupyter nbextension enable --py --sys-prefix widgetsnbextension\n",
    "# install gmaps\n",
    "#!conda install -c conda-forge gmaps --yes\n",
    "# enable gmaps\n",
    "#!jupyter nbextension enable --py --sys-prefix gmaps \n",
    "\n",
    "\n",
    "\n",
    "\n",
    "import matplotlib.pyplot as plt\n",
    "import pandas as pd\n",
    "import numpy as np\n",
    "import requests\n",
    "import gmaps\n",
    "import os\n",
    "import gmaps.datasets\n",
    "\n",
    "# Import API key\n",
    "from api_keys import g_key"
   ]
  },
  {
   "cell_type": "markdown",
   "metadata": {},
   "source": [
    "### Store Part I results into DataFrame\n",
    "* Load the csv exported in Part I to a DataFrame"
   ]
  },
  {
   "cell_type": "code",
   "execution_count": 2,
   "metadata": {},
   "outputs": [],
   "source": [
    "city_weather=\"Instructions/output_data/City.csv\"\n",
    "\n",
    "city_weather_df=pd.read_csv(city_weather)\n",
    "\n",
    "city_weather_df.head()\n",
    "\n",
    "\n"
   ]
  },
  {
   "cell_type": "markdown",
   "metadata": {},
   "source": [
    "### Humidity Heatmap\n",
    "* Configure gmaps.\n",
    "* Use the Lat and Lng as locations and Humidity as the weight.\n",
    "* Add Heatmap layer to map."
   ]
  },
  {
   "cell_type": "code",
   "execution_count": 3,
   "metadata": {},
   "outputs": [
    {
     "data": {
      "application/vnd.jupyter.widget-view+json": {
       "model_id": "dc7d42e4406e4a898e63a78e54b551ce",
       "version_major": 2,
       "version_minor": 0
      },
      "text/plain": [
       "Figure(layout=FigureLayout(height='420px'))"
      ]
     },
     "metadata": {},
     "output_type": "display_data"
    }
   ],
   "source": [
    "gmaps.configure(api_key=g_key)\n",
    "\n",
    "\n",
    "\n",
    "humidity = city_weather_df[\"Humidity\"].astype(float)\n",
    "max_hum = humidity.max()\n",
    "latlng=city_weather_df[[\"Lat\", \"Lng\"]]\n",
    "\n",
    "figure = gmaps.figure()\n",
    "heat = gmaps.heatmap_layer(latlng, weights = humidity)\n",
    "figure.add_layer(heat)\n",
    "\n",
    "figure"
   ]
  },
  {
   "cell_type": "markdown",
   "metadata": {},
   "source": [
    "### Create new DataFrame fitting weather criteria\n",
    "* Narrow down the cities to fit weather conditions.\n",
    "* Drop any rows will null values."
   ]
  },
  {
   "cell_type": "markdown",
   "metadata": {},
   "source": [
    "### Hotel Map\n",
    "* Store into variable named `hotel_df`.\n",
    "* Add a \"Hotel Name\" column to the DataFrame.\n",
    "* Set parameters to search for hotels with 5000 meters.\n",
    "* Hit the Google Places API for each city's coordinates.\n",
    "* Store the first Hotel result into the DataFrame.\n",
    "* Plot markers on top of the heatmap."
   ]
  },
  {
   "cell_type": "code",
   "execution_count": 4,
   "metadata": {},
   "outputs": [
    {
     "data": {
      "text/html": [
       "<div>\n",
       "<style scoped>\n",
       "    .dataframe tbody tr th:only-of-type {\n",
       "        vertical-align: middle;\n",
       "    }\n",
       "\n",
       "    .dataframe tbody tr th {\n",
       "        vertical-align: top;\n",
       "    }\n",
       "\n",
       "    .dataframe thead th {\n",
       "        text-align: right;\n",
       "    }\n",
       "</style>\n",
       "<table border=\"1\" class=\"dataframe\">\n",
       "  <thead>\n",
       "    <tr style=\"text-align: right;\">\n",
       "      <th></th>\n",
       "      <th>City</th>\n",
       "      <th>Lat</th>\n",
       "      <th>Lng</th>\n",
       "      <th>Max Temp</th>\n",
       "      <th>Humidity</th>\n",
       "      <th>Cloudiness</th>\n",
       "      <th>Wind Speed</th>\n",
       "      <th>Country</th>\n",
       "      <th>Date</th>\n",
       "    </tr>\n",
       "  </thead>\n",
       "  <tbody>\n",
       "    <tr>\n",
       "      <th>0</th>\n",
       "      <td>Ribeira Grande</td>\n",
       "      <td>38.52</td>\n",
       "      <td>-28.70</td>\n",
       "      <td>77.00</td>\n",
       "      <td>83</td>\n",
       "      <td>20</td>\n",
       "      <td>8.05</td>\n",
       "      <td>PT</td>\n",
       "      <td>1595870936</td>\n",
       "    </tr>\n",
       "    <tr>\n",
       "      <th>1</th>\n",
       "      <td>Isetskoye</td>\n",
       "      <td>56.49</td>\n",
       "      <td>65.32</td>\n",
       "      <td>59.31</td>\n",
       "      <td>78</td>\n",
       "      <td>22</td>\n",
       "      <td>5.93</td>\n",
       "      <td>RU</td>\n",
       "      <td>1595870936</td>\n",
       "    </tr>\n",
       "    <tr>\n",
       "      <th>2</th>\n",
       "      <td>Cape Town</td>\n",
       "      <td>-33.93</td>\n",
       "      <td>18.42</td>\n",
       "      <td>59.00</td>\n",
       "      <td>82</td>\n",
       "      <td>0</td>\n",
       "      <td>8.05</td>\n",
       "      <td>ZA</td>\n",
       "      <td>1595870818</td>\n",
       "    </tr>\n",
       "    <tr>\n",
       "      <th>3</th>\n",
       "      <td>Oberá</td>\n",
       "      <td>-27.49</td>\n",
       "      <td>-55.12</td>\n",
       "      <td>67.93</td>\n",
       "      <td>78</td>\n",
       "      <td>63</td>\n",
       "      <td>1.68</td>\n",
       "      <td>AR</td>\n",
       "      <td>1595870937</td>\n",
       "    </tr>\n",
       "    <tr>\n",
       "      <th>4</th>\n",
       "      <td>Busselton</td>\n",
       "      <td>-33.65</td>\n",
       "      <td>115.33</td>\n",
       "      <td>51.01</td>\n",
       "      <td>98</td>\n",
       "      <td>18</td>\n",
       "      <td>8.08</td>\n",
       "      <td>AU</td>\n",
       "      <td>1595871401</td>\n",
       "    </tr>\n",
       "  </tbody>\n",
       "</table>\n",
       "</div>"
      ],
      "text/plain": [
       "             City    Lat     Lng  Max Temp  Humidity  Cloudiness  Wind Speed  \\\n",
       "0  Ribeira Grande  38.52  -28.70     77.00        83          20        8.05   \n",
       "1       Isetskoye  56.49   65.32     59.31        78          22        5.93   \n",
       "2       Cape Town -33.93   18.42     59.00        82           0        8.05   \n",
       "3           Oberá -27.49  -55.12     67.93        78          63        1.68   \n",
       "4       Busselton -33.65  115.33     51.01        98          18        8.08   \n",
       "\n",
       "  Country        Date  \n",
       "0      PT  1595870936  \n",
       "1      RU  1595870936  \n",
       "2      ZA  1595870818  \n",
       "3      AR  1595870937  \n",
       "4      AU  1595871401  "
      ]
     },
     "execution_count": 4,
     "metadata": {},
     "output_type": "execute_result"
    }
   ],
   "source": [
    "city_df = city_weather_df.loc[city_weather_df[\"Max Temp\"]< 80, :]\n",
    "city_df = city_df.dropna(how='any')\n",
    "city_df.reset_index(inplace=True)\n",
    "del city_df[\"index\"]\n",
    "city_df.head()\n",
    "\n"
   ]
  },
  {
   "cell_type": "code",
   "execution_count": 8,
   "metadata": {},
   "outputs": [
    {
     "data": {
      "text/html": [
       "<div>\n",
       "<style scoped>\n",
       "    .dataframe tbody tr th:only-of-type {\n",
       "        vertical-align: middle;\n",
       "    }\n",
       "\n",
       "    .dataframe tbody tr th {\n",
       "        vertical-align: top;\n",
       "    }\n",
       "\n",
       "    .dataframe thead th {\n",
       "        text-align: right;\n",
       "    }\n",
       "</style>\n",
       "<table border=\"1\" class=\"dataframe\">\n",
       "  <thead>\n",
       "    <tr style=\"text-align: right;\">\n",
       "      <th></th>\n",
       "      <th>City</th>\n",
       "      <th>Lat</th>\n",
       "      <th>Lng</th>\n",
       "      <th>Max Temp</th>\n",
       "      <th>Humidity</th>\n",
       "      <th>Cloudiness</th>\n",
       "      <th>Wind Speed</th>\n",
       "      <th>Country</th>\n",
       "      <th>Date</th>\n",
       "      <th>Hotel Name</th>\n",
       "    </tr>\n",
       "  </thead>\n",
       "  <tbody>\n",
       "    <tr>\n",
       "      <th>0</th>\n",
       "      <td>Ribeira Grande</td>\n",
       "      <td>38.52</td>\n",
       "      <td>-28.70</td>\n",
       "      <td>77.00</td>\n",
       "      <td>83</td>\n",
       "      <td>20</td>\n",
       "      <td>8.05</td>\n",
       "      <td>PT</td>\n",
       "      <td>1595870936</td>\n",
       "      <td>Horta</td>\n",
       "    </tr>\n",
       "    <tr>\n",
       "      <th>1</th>\n",
       "      <td>Isetskoye</td>\n",
       "      <td>56.49</td>\n",
       "      <td>65.32</td>\n",
       "      <td>59.31</td>\n",
       "      <td>78</td>\n",
       "      <td>22</td>\n",
       "      <td>5.93</td>\n",
       "      <td>RU</td>\n",
       "      <td>1595870936</td>\n",
       "      <td>Isetskoye</td>\n",
       "    </tr>\n",
       "    <tr>\n",
       "      <th>2</th>\n",
       "      <td>Cape Town</td>\n",
       "      <td>-33.93</td>\n",
       "      <td>18.42</td>\n",
       "      <td>59.00</td>\n",
       "      <td>82</td>\n",
       "      <td>0</td>\n",
       "      <td>8.05</td>\n",
       "      <td>ZA</td>\n",
       "      <td>1595870818</td>\n",
       "      <td>Cape Town</td>\n",
       "    </tr>\n",
       "    <tr>\n",
       "      <th>3</th>\n",
       "      <td>Oberá</td>\n",
       "      <td>-27.49</td>\n",
       "      <td>-55.12</td>\n",
       "      <td>67.93</td>\n",
       "      <td>78</td>\n",
       "      <td>63</td>\n",
       "      <td>1.68</td>\n",
       "      <td>AR</td>\n",
       "      <td>1595870937</td>\n",
       "      <td>Oberá</td>\n",
       "    </tr>\n",
       "    <tr>\n",
       "      <th>4</th>\n",
       "      <td>Busselton</td>\n",
       "      <td>-33.65</td>\n",
       "      <td>115.33</td>\n",
       "      <td>51.01</td>\n",
       "      <td>98</td>\n",
       "      <td>18</td>\n",
       "      <td>8.08</td>\n",
       "      <td>AU</td>\n",
       "      <td>1595871401</td>\n",
       "      <td>Busselton</td>\n",
       "    </tr>\n",
       "  </tbody>\n",
       "</table>\n",
       "</div>"
      ],
      "text/plain": [
       "             City    Lat     Lng  Max Temp  Humidity  Cloudiness  Wind Speed  \\\n",
       "0  Ribeira Grande  38.52  -28.70     77.00        83          20        8.05   \n",
       "1       Isetskoye  56.49   65.32     59.31        78          22        5.93   \n",
       "2       Cape Town -33.93   18.42     59.00        82           0        8.05   \n",
       "3           Oberá -27.49  -55.12     67.93        78          63        1.68   \n",
       "4       Busselton -33.65  115.33     51.01        98          18        8.08   \n",
       "\n",
       "  Country        Date Hotel Name  \n",
       "0      PT  1595870936      Horta  \n",
       "1      RU  1595870936  Isetskoye  \n",
       "2      ZA  1595870818  Cape Town  \n",
       "3      AR  1595870937      Oberá  \n",
       "4      AU  1595871401  Busselton  "
      ]
     },
     "execution_count": 8,
     "metadata": {},
     "output_type": "execute_result"
    }
   ],
   "source": [
    "hotels = []\n",
    "\n",
    "for i in range(len(city_df)):\n",
    "    lat = city_df.loc[i][\"Lat\"]\n",
    "    lng = city_df.loc[i][\"Lng\"]\n",
    "\n",
    "    params = {\n",
    "        \"location\": f\"{lat},{lng}\",\n",
    "        \"radius\": 5000,\n",
    "        \"types\" : \"hotel\",\n",
    "        \"key\": g_key\n",
    "    }\n",
    "    \n",
    "    base_url = \"https://maps.googleapis.com/maps/api/place/nearbysearch/json\"\n",
    "    request = requests.get(base_url, params=params)\n",
    "    json_request = request.json()\n",
    "    try:\n",
    "        hotels.append(json_request[\"results\"][0][\"name\"])\n",
    "    except:\n",
    "        hotels.append(\"\")\n",
    "        \n",
    "\n",
    "city_df[\"Hotel Name\"] = hotels\n",
    "hotel_df = city_df.dropna(how='any')\n",
    "hotel_df.head()"
   ]
  },
  {
   "cell_type": "code",
   "execution_count": 9,
   "metadata": {},
   "outputs": [],
   "source": [
    "# NOTE: Do not change any of the code in this cell\n",
    "\n",
    "# Using the template add the hotel marks to the heatmap\n",
    "info_box_template = \"\"\"\n",
    "<dl>\n",
    "<dt>Name</dt><dd>{Hotel Name}</dd>\n",
    "<dt>City</dt><dd>{City}</dd>\n",
    "<dt>Country</dt><dd>{Country}</dd>\n",
    "</dl>\n",
    "\"\"\"\n",
    "# Store the DataFrame Row\n",
    "# NOTE: be sure to update with your DataFrame name\n",
    "hotel_info = [info_box_template.format(**row) for index, row in hotel_df.iterrows()]\n",
    "locations = hotel_df[[\"Lat\", \"Lng\"]]"
   ]
  },
  {
   "cell_type": "code",
   "execution_count": 10,
   "metadata": {},
   "outputs": [
    {
     "data": {
      "application/vnd.jupyter.widget-view+json": {
       "model_id": "dc7d42e4406e4a898e63a78e54b551ce",
       "version_major": 2,
       "version_minor": 0
      },
      "text/plain": [
       "Figure(layout=FigureLayout(height='420px'))"
      ]
     },
     "metadata": {},
     "output_type": "display_data"
    }
   ],
   "source": [
    "# Add marker layer ontop of heat map\n",
    "marker = gmaps.marker_layer(locations)\n",
    "figure.add_layer(marker)\n",
    "\n",
    "figure\n",
    "\n",
    "# Display figure\n"
   ]
  },
  {
   "cell_type": "code",
   "execution_count": null,
   "metadata": {},
   "outputs": [],
   "source": []
  }
 ],
 "metadata": {
  "kernelspec": {
   "display_name": "Python [conda env:PythonData] *",
   "language": "python",
   "name": "conda-env-PythonData-py"
  },
  "language_info": {
   "codemirror_mode": {
    "name": "ipython",
    "version": 3
   },
   "file_extension": ".py",
   "mimetype": "text/x-python",
   "name": "python",
   "nbconvert_exporter": "python",
   "pygments_lexer": "ipython3",
   "version": "3.6.10"
  },
  "latex_envs": {
   "LaTeX_envs_menu_present": true,
   "autoclose": false,
   "autocomplete": true,
   "bibliofile": "biblio.bib",
   "cite_by": "apalike",
   "current_citInitial": 1,
   "eqLabelWithNumbers": true,
   "eqNumInitial": 1,
   "hotkeys": {
    "equation": "Ctrl-E",
    "itemize": "Ctrl-I"
   },
   "labels_anchors": false,
   "latex_user_defs": false,
   "report_style_numbering": false,
   "user_envs_cfg": false
  }
 },
 "nbformat": 4,
 "nbformat_minor": 2
}
