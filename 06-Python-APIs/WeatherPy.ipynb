{
 "cells": [
  {
   "cell_type": "markdown",
   "metadata": {},
   "source": [
    "# WeatherPy\n",
    "----\n",
    "\n",
    "#### Note\n",
    "* Instructions have been included for each segment. You do not have to follow them exactly, but they are included to help you think through the steps."
   ]
  },
  {
   "cell_type": "code",
   "execution_count": 2,
   "metadata": {
    "scrolled": true
   },
   "outputs": [
    {
     "ename": "ModuleNotFoundError",
     "evalue": "No module named 'api_keys'",
     "output_type": "error",
     "traceback": [
      "\u001b[0;31m---------------------------------------------------------------------------\u001b[0m",
      "\u001b[0;31mModuleNotFoundError\u001b[0m                       Traceback (most recent call last)",
      "\u001b[0;32m<ipython-input-2-28fd2917caa9>\u001b[0m in \u001b[0;36m<module>\u001b[0;34m\u001b[0m\n\u001b[1;32m     12\u001b[0m \u001b[0;34m\u001b[0m\u001b[0m\n\u001b[1;32m     13\u001b[0m \u001b[0;31m# Import API key\u001b[0m\u001b[0;34m\u001b[0m\u001b[0;34m\u001b[0m\u001b[0;34m\u001b[0m\u001b[0m\n\u001b[0;32m---> 14\u001b[0;31m \u001b[0;32mfrom\u001b[0m \u001b[0mapi_keys\u001b[0m \u001b[0;32mimport\u001b[0m \u001b[0mweather_api_key\u001b[0m\u001b[0;34m\u001b[0m\u001b[0;34m\u001b[0m\u001b[0m\n\u001b[0m\u001b[1;32m     15\u001b[0m \u001b[0;34m\u001b[0m\u001b[0m\n\u001b[1;32m     16\u001b[0m \u001b[0;31m# Incorporated citipy to determine city based on latitude and longitude\u001b[0m\u001b[0;34m\u001b[0m\u001b[0;34m\u001b[0m\u001b[0;34m\u001b[0m\u001b[0m\n",
      "\u001b[0;31mModuleNotFoundError\u001b[0m: No module named 'api_keys'"
     ]
    }
   ],
   "source": [
    "# Dependencies and Setup\n",
    "#!pip install citipy\n",
    "#!pip install openweathermapy\n",
    "\n",
    "import matplotlib.pyplot as plt\n",
    "import pandas as pd\n",
    "import numpy as np\n",
    "import requests\n",
    "import time\n",
    "from scipy.stats import linregress\n",
    "import openweathermapy as owm\n",
    "\n",
    "# Import API key\n",
    "from api_keys import weather_api_key\n",
    "\n",
    "# Incorporated citipy to determine city based on latitude and longitude\n",
    "from citipy import citipy\n",
    "\n",
    "# Output File (CSV)\n",
    "output_data_file = \"output_data/cities.csv\"\n",
    "\n",
    "# Range of latitudes and longitudes\n",
    "lat_range = (-90, 90)\n",
    "lng_range = (-180, 180)"
   ]
  },
  {
   "cell_type": "markdown",
   "metadata": {},
   "source": [
    "## Generate Cities List"
   ]
  },
  {
   "cell_type": "code",
   "execution_count": 2,
   "metadata": {},
   "outputs": [
    {
     "data": {
      "text/plain": [
       "614"
      ]
     },
     "execution_count": 2,
     "metadata": {},
     "output_type": "execute_result"
    }
   ],
   "source": [
    "# List for holding lat_lngs and cities\n",
    "lat_lngs = []\n",
    "cities = []\n",
    "\n",
    "# Create a set of random lat and lng combinations\n",
    "lats = np.random.uniform(lat_range[0], lat_range[1], size=1500)\n",
    "lngs = np.random.uniform(lng_range[0], lng_range[1], size=1500)\n",
    "lat_lngs = zip(lats, lngs)\n",
    "\n",
    "# Identify nearest city for each lat, lng combination\n",
    "for lat_lng in lat_lngs:\n",
    "    city = citipy.nearest_city(lat_lng[0], lat_lng[1]).city_name\n",
    "    \n",
    "    # If the city is unique, then add it to a our cities list\n",
    "    if city not in cities:\n",
    "        cities.append(city)\n",
    "\n",
    "# Print the city count to confirm sufficient count\n",
    "len(cities)"
   ]
  },
  {
   "cell_type": "markdown",
   "metadata": {},
   "source": [
    "### Perform API Calls\n",
    "* Perform a weather check on each city using a series of successive API calls.\n",
    "* Include a print log of each city as it'sbeing processed (with the city number and city name).\n"
   ]
  },
  {
   "cell_type": "code",
   "execution_count": 15,
   "metadata": {},
   "outputs": [
    {
     "name": "stdout",
     "output_type": "stream",
     "text": [
      "Beginning Data Retrieval\n",
      "Processing Record 1 of Set 0 | felidhoo\n",
      "HTTP Error 404: Not Found\n",
      "Processing Record 2 of Set 0 | ribeira grande\n",
      "Processing Record 3 of Set 0 | isetskoye\n",
      "Processing Record 4 of Set 0 | cape town\n",
      "Processing Record 5 of Set 0 | obera\n",
      "Processing Record 6 of Set 0 | busselton\n",
      "Processing Record 7 of Set 0 | muisne\n",
      "Processing Record 8 of Set 0 | qaanaaq\n",
      "Processing Record 9 of Set 0 | boden\n",
      "Processing Record 10 of Set 0 | marsh harbour\n",
      "Processing Record 11 of Set 0 | avarua\n",
      "Processing Record 12 of Set 0 | sarakhs\n",
      "Processing Record 13 of Set 0 | lasa\n",
      "Processing Record 14 of Set 0 | ambon\n",
      "Processing Record 15 of Set 0 | albany\n",
      "Processing Record 16 of Set 0 | istiaia\n",
      "Processing Record 17 of Set 0 | vaini\n",
      "Processing Record 18 of Set 0 | salinas\n",
      "Processing Record 19 of Set 0 | hamilton\n",
      "Processing Record 20 of Set 0 | wahran\n",
      "HTTP Error 404: Not Found\n",
      "Processing Record 21 of Set 0 | brae\n",
      "Processing Record 22 of Set 0 | east london\n",
      "Processing Record 23 of Set 0 | tignere\n",
      "Processing Record 24 of Set 0 | kapaa\n",
      "Processing Record 25 of Set 0 | bara\n",
      "Processing Record 26 of Set 0 | acarau\n",
      "Processing Record 27 of Set 0 | chuy\n",
      "Processing Record 28 of Set 0 | tuktoyaktuk\n",
      "Processing Record 29 of Set 0 | new norfolk\n",
      "Processing Record 30 of Set 0 | bagdarin\n",
      "Processing Record 31 of Set 0 | metro\n",
      "Processing Record 32 of Set 0 | okato\n",
      "Processing Record 33 of Set 0 | belushya guba\n",
      "HTTP Error 404: Not Found\n",
      "Processing Record 34 of Set 0 | edd\n",
      "Processing Record 35 of Set 0 | longyearbyen\n",
      "Processing Record 36 of Set 0 | ushuaia\n",
      "Processing Record 37 of Set 0 | barrow\n",
      "Processing Record 38 of Set 0 | praia da vitoria\n",
      "Processing Record 39 of Set 0 | klaksvik\n",
      "Processing Record 40 of Set 0 | victoria\n",
      "Processing Record 41 of Set 0 | upernavik\n",
      "Processing Record 42 of Set 0 | leh\n",
      "Processing Record 43 of Set 0 | port macquarie\n",
      "Processing Record 44 of Set 0 | georgetown\n",
      "Processing Record 45 of Set 0 | barentsburg\n",
      "HTTP Error 404: Not Found\n",
      "Processing Record 46 of Set 0 | jamestown\n",
      "Processing Record 47 of Set 0 | atuona\n",
      "Processing Record 48 of Set 0 | khatanga\n",
      "Processing Record 49 of Set 0 | saint-philippe\n",
      "Processing Record 50 of Set 0 | ostrovnoy\n",
      "Processing Record 1 of Set 1 | ardakan\n",
      "Processing Record 2 of Set 1 | punta arenas\n",
      "Processing Record 3 of Set 1 | iqaluit\n",
      "Processing Record 4 of Set 1 | rikitea\n",
      "Processing Record 5 of Set 1 | yerbogachen\n",
      "Processing Record 6 of Set 1 | sola\n",
      "Processing Record 7 of Set 1 | arlit\n",
      "Processing Record 8 of Set 1 | santa rosa\n",
      "Processing Record 9 of Set 1 | miandrivazo\n",
      "Processing Record 10 of Set 1 | banjarmasin\n",
      "Processing Record 11 of Set 1 | karaul\n",
      "HTTP Error 404: Not Found\n",
      "Processing Record 12 of Set 1 | todos santos\n",
      "Processing Record 13 of Set 1 | mkushi\n",
      "Processing Record 14 of Set 1 | port alfred\n",
      "Processing Record 15 of Set 1 | craig\n",
      "Processing Record 16 of Set 1 | matay\n",
      "Processing Record 17 of Set 1 | mujiayingzi\n",
      "Processing Record 18 of Set 1 | rocha\n",
      "Processing Record 19 of Set 1 | beloha\n",
      "Processing Record 20 of Set 1 | blagoyevo\n",
      "Processing Record 21 of Set 1 | geraldton\n",
      "Processing Record 22 of Set 1 | sentyabrskiy\n",
      "HTTP Error 404: Not Found\n",
      "Processing Record 23 of Set 1 | hilo\n",
      "Processing Record 24 of Set 1 | vila franca do campo\n",
      "Processing Record 25 of Set 1 | chagda\n",
      "HTTP Error 404: Not Found\n",
      "Processing Record 26 of Set 1 | svetlyy\n",
      "Processing Record 27 of Set 1 | mataura\n",
      "Processing Record 28 of Set 1 | cabo san lucas\n",
      "Processing Record 29 of Set 1 | dingle\n",
      "Processing Record 30 of Set 1 | kodiak\n",
      "Processing Record 31 of Set 1 | salinopolis\n",
      "Processing Record 32 of Set 1 | ponta do sol\n",
      "Processing Record 33 of Set 1 | udachnyy\n",
      "Processing Record 34 of Set 1 | san cristobal\n",
      "Processing Record 35 of Set 1 | escarcega\n",
      "Processing Record 36 of Set 1 | lebu\n",
      "Processing Record 37 of Set 1 | bluff\n",
      "Processing Record 38 of Set 1 | coihaique\n",
      "Processing Record 39 of Set 1 | kolosovka\n",
      "Processing Record 40 of Set 1 | carnarvon\n",
      "Processing Record 41 of Set 1 | namatanai\n",
      "Processing Record 42 of Set 1 | liverpool\n",
      "Processing Record 43 of Set 1 | yaan\n",
      "Processing Record 44 of Set 1 | arraial do cabo\n",
      "Processing Record 45 of Set 1 | comodoro rivadavia\n",
      "Processing Record 46 of Set 1 | touros\n",
      "Processing Record 47 of Set 1 | saint george\n",
      "Processing Record 48 of Set 1 | hobyo\n",
      "Processing Record 49 of Set 1 | hobart\n",
      "Processing Record 50 of Set 1 | scottsburgh\n",
      "HTTP Error 404: Not Found\n"
     ]
    },
    {
     "ename": "KeyboardInterrupt",
     "evalue": "",
     "output_type": "error",
     "traceback": [
      "\u001b[0;31m---------------------------------------------------------------------------\u001b[0m",
      "\u001b[0;31mKeyboardInterrupt\u001b[0m                         Traceback (most recent call last)",
      "\u001b[0;32m<ipython-input-15-ed4fe5158022>\u001b[0m in \u001b[0;36m<module>\u001b[0;34m\u001b[0m\n\u001b[1;32m     46\u001b[0m         \u001b[0mcount\u001b[0m \u001b[0;34m=\u001b[0m \u001b[0;36m1\u001b[0m\u001b[0;34m\u001b[0m\u001b[0;34m\u001b[0m\u001b[0m\n\u001b[1;32m     47\u001b[0m         \u001b[0msets\u001b[0m \u001b[0;34m=\u001b[0m \u001b[0msets\u001b[0m\u001b[0;34m+\u001b[0m\u001b[0;36m1\u001b[0m\u001b[0;34m\u001b[0m\u001b[0;34m\u001b[0m\u001b[0m\n\u001b[0;32m---> 48\u001b[0;31m         \u001b[0mtime\u001b[0m\u001b[0;34m.\u001b[0m\u001b[0msleep\u001b[0m\u001b[0;34m(\u001b[0m\u001b[0;36m60\u001b[0m\u001b[0;34m-\u001b[0m\u001b[0;34m(\u001b[0m\u001b[0mt1\u001b[0m\u001b[0;34m-\u001b[0m\u001b[0mt0\u001b[0m\u001b[0;34m)\u001b[0m\u001b[0;34m)\u001b[0m\u001b[0;34m\u001b[0m\u001b[0;34m\u001b[0m\u001b[0m\n\u001b[0m\u001b[1;32m     49\u001b[0m         \u001b[0mt0\u001b[0m\u001b[0;34m=\u001b[0m\u001b[0mtime\u001b[0m\u001b[0;34m.\u001b[0m\u001b[0mtime\u001b[0m\u001b[0;34m(\u001b[0m\u001b[0;34m)\u001b[0m\u001b[0;34m\u001b[0m\u001b[0;34m\u001b[0m\u001b[0m\n\u001b[1;32m     50\u001b[0m \u001b[0mprint\u001b[0m\u001b[0;34m(\u001b[0m\u001b[0;34m\"End of Data Retrieval\"\u001b[0m\u001b[0;34m)\u001b[0m\u001b[0;34m\u001b[0m\u001b[0;34m\u001b[0m\u001b[0m\n",
      "\u001b[0;31mKeyboardInterrupt\u001b[0m: "
     ]
    }
   ],
   "source": [
    "settings = {\"units\": \"imperial\", \"appid\": weather_api_key}\n",
    "\n",
    "# Initialize data frame to store data from API calls\n",
    "\n",
    "\n",
    "cityname = []\n",
    "cloudiness = []\n",
    "country = []\n",
    "date = []\n",
    "max_temp = []\n",
    "wind_speed = []\n",
    "lat = []\n",
    "lng = []\n",
    "humidity = []\n",
    "\n",
    "\n",
    "\n",
    "count = 1\n",
    "err = 0\n",
    "sets = 0\n",
    "index = 0\n",
    "t0 =time.time()\n",
    "print(f\"Beginning Data Retrieval\")\n",
    "for city in cities:\n",
    "    try:\n",
    "        city1 = city.replace(\" \", \"%20\")\n",
    "        print(f'Processing Record {count} of Set {sets} | {city}' )\n",
    "        #print(f'{owm.BASE_URL}weather?q={city1}&units=imperial&APPID={weather_api_key}')\n",
    "        city_info = owm.get_current(city, **settings)\n",
    "        cityname.append(city_info[\"name\"])\n",
    "        cloudiness.append(city_info(\"clouds.all\"))\n",
    "        country.append(city_info(\"sys.country\"))\n",
    "        date.append(city_info(\"dt\"))\n",
    "        max_temp.append(city_info(\"main.temp_max\"))\n",
    "        wind_speed.append(city_info(\"wind.speed\"))\n",
    "        lat.append(city_info(\"coord.lat\"))\n",
    "        lng.append(city_info(\"coord.lon\"))\n",
    "        humidity.append(city_info(\"main.humidity\"))\n",
    "        index = index +1 \n",
    "    except Exception as e:\n",
    "        print(e)\n",
    "        err= err+1\n",
    "    count = count+1\n",
    "    if count == 51: \n",
    "        t1=time.time()\n",
    "        count = 1 \n",
    "        sets = sets+1\n",
    "        time.sleep(60-(t1-t0))\n",
    "        t0=time.time()\n",
    "print(\"End of Data Retrieval\")\n",
    "print(f\"Error found for {err} cities\")\n",
    "\n"
   ]
  },
  {
   "cell_type": "markdown",
   "metadata": {},
   "source": [
    "### Convert Raw Data to DataFrame\n",
    "* Export the city data into a .csv.\n",
    "* Display the DataFrame"
   ]
  },
  {
   "cell_type": "code",
   "execution_count": 23,
   "metadata": {},
   "outputs": [],
   "source": [
    "weather_df = pd.DataFrame({\"City\": cityname,\n",
    "                          \"Lat\": lat,\n",
    "                          \"Lng\": lng,\n",
    "                          \"Max Temp\": max_temp,\n",
    "                          \"Humidity\": humidity,\n",
    "                          \"Cloudiness\": cloudiness,\n",
    "                          \"Wind Speed\": wind_speed,\n",
    "                          \"Country\": country,\n",
    "                          \"Date\": date})\n",
    "#weather_df.to_csv(\"Weather.csv\", encoding='utf-8', index=False)"
   ]
  },
  {
   "cell_type": "code",
   "execution_count": 5,
   "metadata": {},
   "outputs": [
    {
     "data": {
      "text/html": [
       "<div>\n",
       "<style scoped>\n",
       "    .dataframe tbody tr th:only-of-type {\n",
       "        vertical-align: middle;\n",
       "    }\n",
       "\n",
       "    .dataframe tbody tr th {\n",
       "        vertical-align: top;\n",
       "    }\n",
       "\n",
       "    .dataframe thead th {\n",
       "        text-align: right;\n",
       "    }\n",
       "</style>\n",
       "<table border=\"1\" class=\"dataframe\">\n",
       "  <thead>\n",
       "    <tr style=\"text-align: right;\">\n",
       "      <th></th>\n",
       "      <th>City</th>\n",
       "      <th>Lat</th>\n",
       "      <th>Lng</th>\n",
       "      <th>Max Temp</th>\n",
       "      <th>Humidity</th>\n",
       "      <th>Cloudiness</th>\n",
       "      <th>Wind Speed</th>\n",
       "      <th>Country</th>\n",
       "      <th>Date</th>\n",
       "    </tr>\n",
       "  </thead>\n",
       "  <tbody>\n",
       "    <tr>\n",
       "      <th>0</th>\n",
       "      <td>pimentel</td>\n",
       "      <td>-6.84</td>\n",
       "      <td>-79.93</td>\n",
       "      <td>66.20</td>\n",
       "      <td>29</td>\n",
       "      <td>75</td>\n",
       "      <td>5.82</td>\n",
       "      <td>PE</td>\n",
       "      <td>1585764415</td>\n",
       "    </tr>\n",
       "    <tr>\n",
       "      <th>1</th>\n",
       "      <td>victoria</td>\n",
       "      <td>22.29</td>\n",
       "      <td>114.16</td>\n",
       "      <td>69.01</td>\n",
       "      <td>88</td>\n",
       "      <td>40</td>\n",
       "      <td>18.34</td>\n",
       "      <td>HK</td>\n",
       "      <td>1585764288</td>\n",
       "    </tr>\n",
       "    <tr>\n",
       "      <th>2</th>\n",
       "      <td>padang</td>\n",
       "      <td>-0.95</td>\n",
       "      <td>100.35</td>\n",
       "      <td>79.90</td>\n",
       "      <td>75</td>\n",
       "      <td>99</td>\n",
       "      <td>1.63</td>\n",
       "      <td>ID</td>\n",
       "      <td>1585764115</td>\n",
       "    </tr>\n",
       "    <tr>\n",
       "      <th>3</th>\n",
       "      <td>hasaki</td>\n",
       "      <td>35.73</td>\n",
       "      <td>140.83</td>\n",
       "      <td>55.00</td>\n",
       "      <td>100</td>\n",
       "      <td>75</td>\n",
       "      <td>4.70</td>\n",
       "      <td>JP</td>\n",
       "      <td>1585764415</td>\n",
       "    </tr>\n",
       "    <tr>\n",
       "      <th>4</th>\n",
       "      <td>kahului</td>\n",
       "      <td>20.89</td>\n",
       "      <td>-156.47</td>\n",
       "      <td>70.00</td>\n",
       "      <td>88</td>\n",
       "      <td>1</td>\n",
       "      <td>7.63</td>\n",
       "      <td>US</td>\n",
       "      <td>1585764415</td>\n",
       "    </tr>\n",
       "  </tbody>\n",
       "</table>\n",
       "</div>"
      ],
      "text/plain": [
       "       City    Lat     Lng  Max Temp  Humidity  Cloudiness  Wind Speed  \\\n",
       "0  pimentel  -6.84  -79.93     66.20        29          75        5.82   \n",
       "1  victoria  22.29  114.16     69.01        88          40       18.34   \n",
       "2    padang  -0.95  100.35     79.90        75          99        1.63   \n",
       "3    hasaki  35.73  140.83     55.00       100          75        4.70   \n",
       "4   kahului  20.89 -156.47     70.00        88           1        7.63   \n",
       "\n",
       "  Country        Date  \n",
       "0      PE  1585764415  \n",
       "1      HK  1585764288  \n",
       "2      ID  1585764115  \n",
       "3      JP  1585764415  \n",
       "4      US  1585764415  "
      ]
     },
     "execution_count": 5,
     "metadata": {},
     "output_type": "execute_result"
    }
   ],
   "source": []
  },
  {
   "cell_type": "code",
   "execution_count": 32,
   "metadata": {},
   "outputs": [
    {
     "data": {
      "text/plain": [
       "array([ 83,  78,  82,  98,  56,  77,  72,  88,  21,  14,  37,  94,  62,\n",
       "        93,  65,  97,  74,  49,  69,  89,  92,  87,  68,  64,  45,  86,\n",
       "        61,  76,  79,  32,  71,  12,  52,  81,  73,   8,  51,  95,  85,\n",
       "        24,  18,  60,  66,  90,  59,  41,  39,  63, 100])"
      ]
     },
     "execution_count": 32,
     "metadata": {},
     "output_type": "execute_result"
    }
   ],
   "source": [
    "hum_100 = weather_df[\"Humidity\"].unique()\n",
    "\n",
    "hum_100"
   ]
  },
  {
   "cell_type": "markdown",
   "metadata": {},
   "source": [
    "## Inspect the data and remove the cities where the humidity > 100%.\n",
    "----\n",
    "Skip this step if there are no cities that have humidity > 100%. "
   ]
  },
  {
   "cell_type": "code",
   "execution_count": 35,
   "metadata": {},
   "outputs": [],
   "source": [
    "# Extract relevant fields from the data frame\n",
    "\n",
    "\n",
    "# Export the City_Data into a csv\n",
    "weather_df.to_csv(\"../output_data/City.csv\", encoding='utf-8', index=False)"
   ]
  },
  {
   "cell_type": "markdown",
   "metadata": {},
   "source": [
    "## Plotting the Data\n",
    "* Use proper labeling of the plots using plot titles (including date of analysis) and axes labels.\n",
    "* Save the plotted figures as .pngs."
   ]
  },
  {
   "cell_type": "markdown",
   "metadata": {},
   "source": [
    "## Latitude vs. Temperature Plot"
   ]
  },
  {
   "cell_type": "code",
   "execution_count": 45,
   "metadata": {},
   "outputs": [
    {
     "data": {
      "text/plain": [
       "Text(0.5, 1.0, 'City Latitude vs Max Temperature')"
      ]
     },
     "execution_count": 45,
     "metadata": {},
     "output_type": "execute_result"
    },
    {
     "data": {
      "image/png": "[encoded data removed]",
      "text/plain": [
       "<Figure size 432x288 with 1 Axes>"
      ]
     },
     "metadata": {
      "needs_background": "light"
     },
     "output_type": "display_data"
    }
   ],
   "source": [
    "x_axis = weather_df[\"Lat\"]\n",
    "y_axis = weather_df[\"Max Temp\"]\n",
    "\n",
    "plt.scatter(x_axis, y_axis, color=\"red\", facecolor=\"black\")\n",
    "plt.xlabel(\"Latitude\")\n",
    "plt.ylabel(\"Max Temperature (F)\")\n",
    "plt.title(\"City Latitude vs Max Temperature\")"
   ]
  },
  {
   "cell_type": "markdown",
   "metadata": {},
   "source": [
    "## Latitude vs. Humidity Plot"
   ]
  },
  {
   "cell_type": "code",
   "execution_count": 1,
   "metadata": {},
   "outputs": [
    {
     "ename": "NameError",
     "evalue": "name 'weather_df' is not defined",
     "output_type": "error",
     "traceback": [
      "\u001b[0;31m---------------------------------------------------------------------------\u001b[0m",
      "\u001b[0;31mNameError\u001b[0m                                 Traceback (most recent call last)",
      "\u001b[0;32m<ipython-input-1-6f43ba7dd51b>\u001b[0m in \u001b[0;36m<module>\u001b[0;34m\u001b[0m\n\u001b[0;32m----> 1\u001b[0;31m \u001b[0mx_axis1\u001b[0m \u001b[0;34m=\u001b[0m \u001b[0mweather_df\u001b[0m\u001b[0;34m[\u001b[0m\u001b[0;34m\"Lat\"\u001b[0m\u001b[0;34m]\u001b[0m\u001b[0;34m\u001b[0m\u001b[0;34m\u001b[0m\u001b[0m\n\u001b[0m\u001b[1;32m      2\u001b[0m \u001b[0my_axis1\u001b[0m \u001b[0;34m=\u001b[0m \u001b[0mweather_df\u001b[0m\u001b[0;34m[\u001b[0m\u001b[0;34m\"Humidity\"\u001b[0m\u001b[0;34m]\u001b[0m\u001b[0;34m\u001b[0m\u001b[0;34m\u001b[0m\u001b[0m\n\u001b[1;32m      3\u001b[0m \u001b[0;34m\u001b[0m\u001b[0m\n\u001b[1;32m      4\u001b[0m \u001b[0mplt\u001b[0m\u001b[0;34m.\u001b[0m\u001b[0mscatter\u001b[0m\u001b[0;34m(\u001b[0m\u001b[0mx_axis1\u001b[0m\u001b[0;34m,\u001b[0m \u001b[0my_axis1\u001b[0m\u001b[0;34m,\u001b[0m \u001b[0mcolor\u001b[0m\u001b[0;34m=\u001b[0m\u001b[0;34m\"red\"\u001b[0m\u001b[0;34m,\u001b[0m \u001b[0mfacecolor\u001b[0m\u001b[0;34m=\u001b[0m\u001b[0;34m\"black\"\u001b[0m\u001b[0;34m)\u001b[0m\u001b[0;34m\u001b[0m\u001b[0;34m\u001b[0m\u001b[0m\n\u001b[1;32m      5\u001b[0m \u001b[0mplt\u001b[0m\u001b[0;34m.\u001b[0m\u001b[0mxlabel\u001b[0m\u001b[0;34m(\u001b[0m\u001b[0;34m\"Latitude\"\u001b[0m\u001b[0;34m)\u001b[0m\u001b[0;34m\u001b[0m\u001b[0;34m\u001b[0m\u001b[0m\n",
      "\u001b[0;31mNameError\u001b[0m: name 'weather_df' is not defined"
     ]
    }
   ],
   "source": [
    "x_axis1 = weather_df[\"Lat\"]\n",
    "y_axis1 = weather_df[\"Humidity\"]\n",
    "\n",
    "plt.scatter(x_axis1, y_axis1, color=\"red\", facecolor=\"black\")\n",
    "plt.xlabel(\"Latitude\")\n",
    "plt.ylabel(\"Humidity (%)\")\n",
    "plt.title(\"City Latitude vs Humidity\")\n",
    "plt.savegfig(\"../output_data/Fig1.png\")"
   ]
  },
  {
   "cell_type": "markdown",
   "metadata": {},
   "source": [
    "## Latitude vs. Cloudiness Plot"
   ]
  },
  {
   "cell_type": "code",
   "execution_count": 43,
   "metadata": {},
   "outputs": [
    {
     "data": {
      "text/plain": [
       "Text(0.5, 1.0, 'City Latitude vs Cloudiness')"
      ]
     },
     "execution_count": 43,
     "metadata": {},
     "output_type": "execute_result"
    },
    {
     "data": {
      "image/png": "[encoded data removed]",
      "text/plain": [
       "<Figure size 432x288 with 1 Axes>"
      ]
     },
     "metadata": {
      "needs_background": "light"
     },
     "output_type": "display_data"
    }
   ],
   "source": [
    "x_axis2=weather_df[\"Lat\"]\n",
    "y_axis2=weather_df[\"Cloudiness\"]\n",
    "\n",
    "plt.scatter(x_axis2, y_axis2, color=\"red\", facecolor=\"black\")\n",
    "plt.xlabel(\"Latitude\")\n",
    "plt.ylabel(\"Cloudiness (%)\")\n",
    "plt.title(\"City Latitude vs Cloudiness\")"
   ]
  },
  {
   "cell_type": "markdown",
   "metadata": {},
   "source": [
    "## Latitude vs. Wind Speed Plot"
   ]
  },
  {
   "cell_type": "code",
   "execution_count": 44,
   "metadata": {},
   "outputs": [
    {
     "data": {
      "text/plain": [
       "Text(0.5, 1.0, 'City Latitude vs Wind Speed')"
      ]
     },
     "execution_count": 44,
     "metadata": {},
     "output_type": "execute_result"
    },
    {
     "data": {
      "image/png": "[encoded data removed]",
      "text/plain": [
       "<Figure size 432x288 with 1 Axes>"
      ]
     },
     "metadata": {
      "needs_background": "light"
     },
     "output_type": "display_data"
    }
   ],
   "source": [
    "x_axis3=weather_df[\"Lat\"]\n",
    "y_axis3=weather_df[\"Wind Speed\"]\n",
    "\n",
    "plt.scatter(x_axis3, y_axis3, color=\"red\", facecolor=\"black\")\n",
    "plt.xlabel(\"Latitude\")\n",
    "plt.ylabel(\"Wind Speed (mph)\")\n",
    "plt.title(\"City Latitude vs Wind Speed\")"
   ]
  },
  {
   "cell_type": "markdown",
   "metadata": {},
   "source": [
    "## Linear Regression"
   ]
  },
  {
   "cell_type": "code",
   "execution_count": 14,
   "metadata": {},
   "outputs": [],
   "source": [
    "# OPTIONAL: Create a function to create Linear Regression plots"
   ]
  },
  {
   "cell_type": "code",
   "execution_count": 15,
   "metadata": {},
   "outputs": [],
   "source": [
    "# Create Northern and Southern Hemisphere DataFrames"
   ]
  },
  {
   "cell_type": "markdown",
   "metadata": {},
   "source": [
    "####  Northern Hemisphere - Max Temp vs. Latitude Linear Regression"
   ]
  },
  {
   "cell_type": "code",
   "execution_count": 16,
   "metadata": {},
   "outputs": [
    {
     "name": "stdout",
     "output_type": "stream",
     "text": [
      "The r-squared is: 0.8271188905041935\n"
     ]
    },
    {
     "data": {
      "image/png": "[encoded data removed]",
      "text/plain": [
       "<Figure size 432x288 with 1 Axes>"
      ]
     },
     "metadata": {
      "needs_background": "light"
     },
     "output_type": "display_data"
    }
   ],
   "source": []
  },
  {
   "cell_type": "code",
   "execution_count": 66,
   "metadata": {},
   "outputs": [
    {
     "data": {
      "text/html": [
       "<div>\n",
       "<style scoped>\n",
       "    .dataframe tbody tr th:only-of-type {\n",
       "        vertical-align: middle;\n",
       "    }\n",
       "\n",
       "    .dataframe tbody tr th {\n",
       "        vertical-align: top;\n",
       "    }\n",
       "\n",
       "    .dataframe thead th {\n",
       "        text-align: right;\n",
       "    }\n",
       "</style>\n",
       "<table border=\"1\" class=\"dataframe\">\n",
       "  <thead>\n",
       "    <tr style=\"text-align: right;\">\n",
       "      <th></th>\n",
       "      <th>City</th>\n",
       "      <th>Lat</th>\n",
       "      <th>Lng</th>\n",
       "      <th>Max Temp</th>\n",
       "      <th>Humidity</th>\n",
       "      <th>Cloudiness</th>\n",
       "      <th>Wind Speed</th>\n",
       "      <th>Country</th>\n",
       "      <th>Date</th>\n",
       "    </tr>\n",
       "  </thead>\n",
       "  <tbody>\n",
       "    <tr>\n",
       "      <th>2</th>\n",
       "      <td>Cape Town</td>\n",
       "      <td>-33.93</td>\n",
       "      <td>18.42</td>\n",
       "      <td>59.00</td>\n",
       "      <td>82</td>\n",
       "      <td>0</td>\n",
       "      <td>8.05</td>\n",
       "      <td>ZA</td>\n",
       "      <td>1595870818</td>\n",
       "    </tr>\n",
       "    <tr>\n",
       "      <th>3</th>\n",
       "      <td>Oberá</td>\n",
       "      <td>-27.49</td>\n",
       "      <td>-55.12</td>\n",
       "      <td>67.93</td>\n",
       "      <td>78</td>\n",
       "      <td>63</td>\n",
       "      <td>1.68</td>\n",
       "      <td>AR</td>\n",
       "      <td>1595870937</td>\n",
       "    </tr>\n",
       "    <tr>\n",
       "      <th>4</th>\n",
       "      <td>Busselton</td>\n",
       "      <td>-33.65</td>\n",
       "      <td>115.33</td>\n",
       "      <td>51.01</td>\n",
       "      <td>98</td>\n",
       "      <td>18</td>\n",
       "      <td>8.08</td>\n",
       "      <td>AU</td>\n",
       "      <td>1595871401</td>\n",
       "    </tr>\n",
       "    <tr>\n",
       "      <th>9</th>\n",
       "      <td>Avarua</td>\n",
       "      <td>-21.21</td>\n",
       "      <td>-159.78</td>\n",
       "      <td>69.80</td>\n",
       "      <td>88</td>\n",
       "      <td>60</td>\n",
       "      <td>6.93</td>\n",
       "      <td>CK</td>\n",
       "      <td>1595871402</td>\n",
       "    </tr>\n",
       "    <tr>\n",
       "      <th>12</th>\n",
       "      <td>Ambon City</td>\n",
       "      <td>-3.70</td>\n",
       "      <td>128.18</td>\n",
       "      <td>79.00</td>\n",
       "      <td>14</td>\n",
       "      <td>97</td>\n",
       "      <td>13.60</td>\n",
       "      <td>ID</td>\n",
       "      <td>1595870937</td>\n",
       "    </tr>\n",
       "    <tr>\n",
       "      <th>15</th>\n",
       "      <td>Vaini</td>\n",
       "      <td>-21.20</td>\n",
       "      <td>-175.20</td>\n",
       "      <td>68.00</td>\n",
       "      <td>94</td>\n",
       "      <td>20</td>\n",
       "      <td>9.17</td>\n",
       "      <td>TO</td>\n",
       "      <td>1595870938</td>\n",
       "    </tr>\n",
       "    <tr>\n",
       "      <th>19</th>\n",
       "      <td>East London</td>\n",
       "      <td>-33.02</td>\n",
       "      <td>27.91</td>\n",
       "      <td>60.44</td>\n",
       "      <td>65</td>\n",
       "      <td>15</td>\n",
       "      <td>11.01</td>\n",
       "      <td>ZA</td>\n",
       "      <td>1595870837</td>\n",
       "    </tr>\n",
       "    <tr>\n",
       "      <th>23</th>\n",
       "      <td>Acaraú</td>\n",
       "      <td>-2.89</td>\n",
       "      <td>-40.12</td>\n",
       "      <td>86.97</td>\n",
       "      <td>49</td>\n",
       "      <td>25</td>\n",
       "      <td>16.15</td>\n",
       "      <td>BR</td>\n",
       "      <td>1595870938</td>\n",
       "    </tr>\n",
       "    <tr>\n",
       "      <th>24</th>\n",
       "      <td>Chui</td>\n",
       "      <td>-33.70</td>\n",
       "      <td>-53.46</td>\n",
       "      <td>58.46</td>\n",
       "      <td>69</td>\n",
       "      <td>1</td>\n",
       "      <td>7.00</td>\n",
       "      <td>UY</td>\n",
       "      <td>1595870652</td>\n",
       "    </tr>\n",
       "    <tr>\n",
       "      <th>26</th>\n",
       "      <td>New Norfolk</td>\n",
       "      <td>-42.78</td>\n",
       "      <td>147.06</td>\n",
       "      <td>43.00</td>\n",
       "      <td>89</td>\n",
       "      <td>95</td>\n",
       "      <td>2.24</td>\n",
       "      <td>AU</td>\n",
       "      <td>1595870653</td>\n",
       "    </tr>\n",
       "    <tr>\n",
       "      <th>28</th>\n",
       "      <td>Metro</td>\n",
       "      <td>-5.11</td>\n",
       "      <td>105.31</td>\n",
       "      <td>72.48</td>\n",
       "      <td>87</td>\n",
       "      <td>98</td>\n",
       "      <td>4.52</td>\n",
       "      <td>ID</td>\n",
       "      <td>1595870653</td>\n",
       "    </tr>\n",
       "    <tr>\n",
       "      <th>29</th>\n",
       "      <td>Okato</td>\n",
       "      <td>-39.20</td>\n",
       "      <td>173.88</td>\n",
       "      <td>42.01</td>\n",
       "      <td>68</td>\n",
       "      <td>68</td>\n",
       "      <td>8.99</td>\n",
       "      <td>NZ</td>\n",
       "      <td>1595870939</td>\n",
       "    </tr>\n",
       "    <tr>\n",
       "      <th>32</th>\n",
       "      <td>Ushuaia</td>\n",
       "      <td>-54.80</td>\n",
       "      <td>-68.30</td>\n",
       "      <td>33.80</td>\n",
       "      <td>86</td>\n",
       "      <td>90</td>\n",
       "      <td>27.51</td>\n",
       "      <td>AR</td>\n",
       "      <td>1595871404</td>\n",
       "    </tr>\n",
       "    <tr>\n",
       "      <th>39</th>\n",
       "      <td>Port Macquarie</td>\n",
       "      <td>-31.43</td>\n",
       "      <td>152.92</td>\n",
       "      <td>48.99</td>\n",
       "      <td>89</td>\n",
       "      <td>38</td>\n",
       "      <td>8.86</td>\n",
       "      <td>AU</td>\n",
       "      <td>1595870859</td>\n",
       "    </tr>\n",
       "    <tr>\n",
       "      <th>42</th>\n",
       "      <td>Atuona</td>\n",
       "      <td>-9.80</td>\n",
       "      <td>-139.03</td>\n",
       "      <td>79.39</td>\n",
       "      <td>71</td>\n",
       "      <td>10</td>\n",
       "      <td>27.04</td>\n",
       "      <td>PF</td>\n",
       "      <td>1595871405</td>\n",
       "    </tr>\n",
       "    <tr>\n",
       "      <th>44</th>\n",
       "      <td>Saint-Philippe</td>\n",
       "      <td>-21.36</td>\n",
       "      <td>55.77</td>\n",
       "      <td>69.80</td>\n",
       "      <td>77</td>\n",
       "      <td>75</td>\n",
       "      <td>3.36</td>\n",
       "      <td>RE</td>\n",
       "      <td>1595871405</td>\n",
       "    </tr>\n",
       "    <tr>\n",
       "      <th>47</th>\n",
       "      <td>Punta Arenas</td>\n",
       "      <td>-53.15</td>\n",
       "      <td>-70.92</td>\n",
       "      <td>42.80</td>\n",
       "      <td>52</td>\n",
       "      <td>40</td>\n",
       "      <td>18.34</td>\n",
       "      <td>CL</td>\n",
       "      <td>1595870997</td>\n",
       "    </tr>\n",
       "    <tr>\n",
       "      <th>49</th>\n",
       "      <td>Rikitea</td>\n",
       "      <td>-23.12</td>\n",
       "      <td>-134.97</td>\n",
       "      <td>71.26</td>\n",
       "      <td>74</td>\n",
       "      <td>100</td>\n",
       "      <td>14.07</td>\n",
       "      <td>PF</td>\n",
       "      <td>1595870997</td>\n",
       "    </tr>\n",
       "    <tr>\n",
       "      <th>51</th>\n",
       "      <td>Sola</td>\n",
       "      <td>-13.88</td>\n",
       "      <td>167.55</td>\n",
       "      <td>80.17</td>\n",
       "      <td>83</td>\n",
       "      <td>70</td>\n",
       "      <td>24.11</td>\n",
       "      <td>VU</td>\n",
       "      <td>1595870997</td>\n",
       "    </tr>\n",
       "    <tr>\n",
       "      <th>54</th>\n",
       "      <td>Miandrivazo</td>\n",
       "      <td>-19.52</td>\n",
       "      <td>45.47</td>\n",
       "      <td>70.12</td>\n",
       "      <td>51</td>\n",
       "      <td>71</td>\n",
       "      <td>0.78</td>\n",
       "      <td>MG</td>\n",
       "      <td>1595871462</td>\n",
       "    </tr>\n",
       "    <tr>\n",
       "      <th>55</th>\n",
       "      <td>Banjarmasin</td>\n",
       "      <td>-3.32</td>\n",
       "      <td>114.59</td>\n",
       "      <td>73.98</td>\n",
       "      <td>95</td>\n",
       "      <td>22</td>\n",
       "      <td>4.12</td>\n",
       "      <td>ID</td>\n",
       "      <td>1595871462</td>\n",
       "    </tr>\n",
       "    <tr>\n",
       "      <th>57</th>\n",
       "      <td>Mkushi</td>\n",
       "      <td>-13.62</td>\n",
       "      <td>29.39</td>\n",
       "      <td>57.94</td>\n",
       "      <td>51</td>\n",
       "      <td>18</td>\n",
       "      <td>7.61</td>\n",
       "      <td>ZM</td>\n",
       "      <td>1595870998</td>\n",
       "    </tr>\n",
       "    <tr>\n",
       "      <th>58</th>\n",
       "      <td>Port Alfred</td>\n",
       "      <td>-33.59</td>\n",
       "      <td>26.89</td>\n",
       "      <td>57.81</td>\n",
       "      <td>68</td>\n",
       "      <td>0</td>\n",
       "      <td>14.18</td>\n",
       "      <td>ZA</td>\n",
       "      <td>1595870846</td>\n",
       "    </tr>\n",
       "    <tr>\n",
       "      <th>62</th>\n",
       "      <td>Rocha</td>\n",
       "      <td>-34.48</td>\n",
       "      <td>-54.33</td>\n",
       "      <td>60.13</td>\n",
       "      <td>60</td>\n",
       "      <td>20</td>\n",
       "      <td>5.73</td>\n",
       "      <td>UY</td>\n",
       "      <td>1595871462</td>\n",
       "    </tr>\n",
       "    <tr>\n",
       "      <th>63</th>\n",
       "      <td>Beloha</td>\n",
       "      <td>-25.17</td>\n",
       "      <td>45.05</td>\n",
       "      <td>60.96</td>\n",
       "      <td>79</td>\n",
       "      <td>0</td>\n",
       "      <td>6.17</td>\n",
       "      <td>MG</td>\n",
       "      <td>1595871462</td>\n",
       "    </tr>\n",
       "    <tr>\n",
       "      <th>65</th>\n",
       "      <td>Geraldton</td>\n",
       "      <td>-28.77</td>\n",
       "      <td>114.60</td>\n",
       "      <td>55.40</td>\n",
       "      <td>93</td>\n",
       "      <td>75</td>\n",
       "      <td>4.70</td>\n",
       "      <td>AU</td>\n",
       "      <td>1595871463</td>\n",
       "    </tr>\n",
       "    <tr>\n",
       "      <th>69</th>\n",
       "      <td>Mataura</td>\n",
       "      <td>-46.19</td>\n",
       "      <td>168.86</td>\n",
       "      <td>39.00</td>\n",
       "      <td>83</td>\n",
       "      <td>97</td>\n",
       "      <td>3.00</td>\n",
       "      <td>NZ</td>\n",
       "      <td>1595871463</td>\n",
       "    </tr>\n",
       "    <tr>\n",
       "      <th>73</th>\n",
       "      <td>Salinópolis</td>\n",
       "      <td>-0.61</td>\n",
       "      <td>-47.36</td>\n",
       "      <td>86.23</td>\n",
       "      <td>59</td>\n",
       "      <td>16</td>\n",
       "      <td>10.45</td>\n",
       "      <td>BR</td>\n",
       "      <td>1595871464</td>\n",
       "    </tr>\n",
       "    <tr>\n",
       "      <th>78</th>\n",
       "      <td>Lebu</td>\n",
       "      <td>-37.62</td>\n",
       "      <td>-73.65</td>\n",
       "      <td>49.17</td>\n",
       "      <td>63</td>\n",
       "      <td>13</td>\n",
       "      <td>12.84</td>\n",
       "      <td>CL</td>\n",
       "      <td>1595871464</td>\n",
       "    </tr>\n",
       "    <tr>\n",
       "      <th>79</th>\n",
       "      <td>Bluff</td>\n",
       "      <td>-46.60</td>\n",
       "      <td>168.33</td>\n",
       "      <td>39.00</td>\n",
       "      <td>83</td>\n",
       "      <td>100</td>\n",
       "      <td>3.00</td>\n",
       "      <td>NZ</td>\n",
       "      <td>1595871002</td>\n",
       "    </tr>\n",
       "    <tr>\n",
       "      <th>80</th>\n",
       "      <td>Coyhaique</td>\n",
       "      <td>-45.58</td>\n",
       "      <td>-72.07</td>\n",
       "      <td>42.80</td>\n",
       "      <td>56</td>\n",
       "      <td>20</td>\n",
       "      <td>4.70</td>\n",
       "      <td>CL</td>\n",
       "      <td>1595871002</td>\n",
       "    </tr>\n",
       "    <tr>\n",
       "      <th>82</th>\n",
       "      <td>Carnarvon</td>\n",
       "      <td>-24.87</td>\n",
       "      <td>113.63</td>\n",
       "      <td>51.80</td>\n",
       "      <td>100</td>\n",
       "      <td>0</td>\n",
       "      <td>4.70</td>\n",
       "      <td>AU</td>\n",
       "      <td>1595871003</td>\n",
       "    </tr>\n",
       "    <tr>\n",
       "      <th>83</th>\n",
       "      <td>Namatanai</td>\n",
       "      <td>-3.67</td>\n",
       "      <td>152.43</td>\n",
       "      <td>79.27</td>\n",
       "      <td>79</td>\n",
       "      <td>80</td>\n",
       "      <td>4.56</td>\n",
       "      <td>PG</td>\n",
       "      <td>1595871003</td>\n",
       "    </tr>\n",
       "    <tr>\n",
       "      <th>86</th>\n",
       "      <td>Arraial do Cabo</td>\n",
       "      <td>-22.97</td>\n",
       "      <td>-42.03</td>\n",
       "      <td>82.40</td>\n",
       "      <td>61</td>\n",
       "      <td>20</td>\n",
       "      <td>20.80</td>\n",
       "      <td>BR</td>\n",
       "      <td>1595871003</td>\n",
       "    </tr>\n",
       "    <tr>\n",
       "      <th>87</th>\n",
       "      <td>Comodoro Rivadavia</td>\n",
       "      <td>-45.87</td>\n",
       "      <td>-67.50</td>\n",
       "      <td>46.40</td>\n",
       "      <td>45</td>\n",
       "      <td>30</td>\n",
       "      <td>12.75</td>\n",
       "      <td>AR</td>\n",
       "      <td>1595871001</td>\n",
       "    </tr>\n",
       "    <tr>\n",
       "      <th>88</th>\n",
       "      <td>Touros</td>\n",
       "      <td>-5.20</td>\n",
       "      <td>-35.46</td>\n",
       "      <td>80.60</td>\n",
       "      <td>74</td>\n",
       "      <td>40</td>\n",
       "      <td>11.41</td>\n",
       "      <td>BR</td>\n",
       "      <td>1595871003</td>\n",
       "    </tr>\n",
       "    <tr>\n",
       "      <th>91</th>\n",
       "      <td>Hobart</td>\n",
       "      <td>-42.88</td>\n",
       "      <td>147.33</td>\n",
       "      <td>45.00</td>\n",
       "      <td>93</td>\n",
       "      <td>90</td>\n",
       "      <td>5.82</td>\n",
       "      <td>AU</td>\n",
       "      <td>1595870856</td>\n",
       "    </tr>\n",
       "  </tbody>\n",
       "</table>\n",
       "</div>"
      ],
      "text/plain": [
       "                  City    Lat     Lng  Max Temp  Humidity  Cloudiness  \\\n",
       "2            Cape Town -33.93   18.42     59.00        82           0   \n",
       "3                Oberá -27.49  -55.12     67.93        78          63   \n",
       "4            Busselton -33.65  115.33     51.01        98          18   \n",
       "9               Avarua -21.21 -159.78     69.80        88          60   \n",
       "12          Ambon City  -3.70  128.18     79.00        14          97   \n",
       "15               Vaini -21.20 -175.20     68.00        94          20   \n",
       "19         East London -33.02   27.91     60.44        65          15   \n",
       "23              Acaraú  -2.89  -40.12     86.97        49          25   \n",
       "24                Chui -33.70  -53.46     58.46        69           1   \n",
       "26         New Norfolk -42.78  147.06     43.00        89          95   \n",
       "28               Metro  -5.11  105.31     72.48        87          98   \n",
       "29               Okato -39.20  173.88     42.01        68          68   \n",
       "32             Ushuaia -54.80  -68.30     33.80        86          90   \n",
       "39      Port Macquarie -31.43  152.92     48.99        89          38   \n",
       "42              Atuona  -9.80 -139.03     79.39        71          10   \n",
       "44      Saint-Philippe -21.36   55.77     69.80        77          75   \n",
       "47        Punta Arenas -53.15  -70.92     42.80        52          40   \n",
       "49             Rikitea -23.12 -134.97     71.26        74         100   \n",
       "51                Sola -13.88  167.55     80.17        83          70   \n",
       "54         Miandrivazo -19.52   45.47     70.12        51          71   \n",
       "55         Banjarmasin  -3.32  114.59     73.98        95          22   \n",
       "57              Mkushi -13.62   29.39     57.94        51          18   \n",
       "58         Port Alfred -33.59   26.89     57.81        68           0   \n",
       "62               Rocha -34.48  -54.33     60.13        60          20   \n",
       "63              Beloha -25.17   45.05     60.96        79           0   \n",
       "65           Geraldton -28.77  114.60     55.40        93          75   \n",
       "69             Mataura -46.19  168.86     39.00        83          97   \n",
       "73         Salinópolis  -0.61  -47.36     86.23        59          16   \n",
       "78                Lebu -37.62  -73.65     49.17        63          13   \n",
       "79               Bluff -46.60  168.33     39.00        83         100   \n",
       "80           Coyhaique -45.58  -72.07     42.80        56          20   \n",
       "82           Carnarvon -24.87  113.63     51.80       100           0   \n",
       "83           Namatanai  -3.67  152.43     79.27        79          80   \n",
       "86     Arraial do Cabo -22.97  -42.03     82.40        61          20   \n",
       "87  Comodoro Rivadavia -45.87  -67.50     46.40        45          30   \n",
       "88              Touros  -5.20  -35.46     80.60        74          40   \n",
       "91              Hobart -42.88  147.33     45.00        93          90   \n",
       "\n",
       "    Wind Speed Country        Date  \n",
       "2         8.05      ZA  1595870818  \n",
       "3         1.68      AR  1595870937  \n",
       "4         8.08      AU  1595871401  \n",
       "9         6.93      CK  1595871402  \n",
       "12       13.60      ID  1595870937  \n",
       "15        9.17      TO  1595870938  \n",
       "19       11.01      ZA  1595870837  \n",
       "23       16.15      BR  1595870938  \n",
       "24        7.00      UY  1595870652  \n",
       "26        2.24      AU  1595870653  \n",
       "28        4.52      ID  1595870653  \n",
       "29        8.99      NZ  1595870939  \n",
       "32       27.51      AR  1595871404  \n",
       "39        8.86      AU  1595870859  \n",
       "42       27.04      PF  1595871405  \n",
       "44        3.36      RE  1595871405  \n",
       "47       18.34      CL  1595870997  \n",
       "49       14.07      PF  1595870997  \n",
       "51       24.11      VU  1595870997  \n",
       "54        0.78      MG  1595871462  \n",
       "55        4.12      ID  1595871462  \n",
       "57        7.61      ZM  1595870998  \n",
       "58       14.18      ZA  1595870846  \n",
       "62        5.73      UY  1595871462  \n",
       "63        6.17      MG  1595871462  \n",
       "65        4.70      AU  1595871463  \n",
       "69        3.00      NZ  1595871463  \n",
       "73       10.45      BR  1595871464  \n",
       "78       12.84      CL  1595871464  \n",
       "79        3.00      NZ  1595871002  \n",
       "80        4.70      CL  1595871002  \n",
       "82        4.70      AU  1595871003  \n",
       "83        4.56      PG  1595871003  \n",
       "86       20.80      BR  1595871003  \n",
       "87       12.75      AR  1595871001  \n",
       "88       11.41      BR  1595871003  \n",
       "91        5.82      AU  1595870856  "
      ]
     },
     "execution_count": 66,
     "metadata": {},
     "output_type": "execute_result"
    }
   ],
   "source": [
    "northern = weather_df.loc[weather_df[\"Lat\"]>0]\n",
    "northern\n",
    "\n",
    "southern = weather_df.loc[weather_df[\"Lat\"]<0]\n",
    "southern"
   ]
  },
  {
   "cell_type": "markdown",
   "metadata": {},
   "source": [
    "####  Southern Hemisphere - Max Temp vs. Latitude Linear Regression"
   ]
  },
  {
   "cell_type": "code",
   "execution_count": 17,
   "metadata": {},
   "outputs": [
    {
     "name": "stdout",
     "output_type": "stream",
     "text": [
      "The r-squared is: 0.39936284758885965\n"
     ]
    },
    {
     "data": {
      "image/png": "[encoded data removed]",
      "text/plain": [
       "<Figure size 432x288 with 1 Axes>"
      ]
     },
     "metadata": {
      "needs_background": "light"
     },
     "output_type": "display_data"
    }
   ],
   "source": []
  },
  {
   "cell_type": "code",
   "execution_count": 74,
   "metadata": {},
   "outputs": [
    {
     "data": {
      "text/plain": [
       "Text(0, 0.5, 'Max Temp')"
      ]
     },
     "execution_count": 74,
     "metadata": {},
     "output_type": "execute_result"
    },
    {
     "data": {
      "image/png": "[encoded data removed]",
      "text/plain": [
       "<Figure size 432x288 with 1 Axes>"
      ]
     },
     "metadata": {
      "needs_background": "light"
     },
     "output_type": "display_data"
    }
   ],
   "source": [
    "x_axis4=southern[\"Lat\"]\n",
    "y_axis4=southern[\"Max Temp\"]\n",
    "\n",
    "plt.scatter(x_axis4, y_axis4, color=\"red\", facecolor=\"black\")\n",
    "plt.xlabel(\"Latitude\")\n",
    "plt.ylabel(\"Max Temp\")\n"
   ]
  },
  {
   "cell_type": "markdown",
   "metadata": {},
   "source": [
    "####  Northern Hemisphere - Humidity (%) vs. Latitude Linear Regression"
   ]
  },
  {
   "cell_type": "code",
   "execution_count": 18,
   "metadata": {},
   "outputs": [
    {
     "name": "stdout",
     "output_type": "stream",
     "text": [
      "The r-squared is: 0.10829462153873139\n"
     ]
    },
    {
     "data": {
      "image/png": "[encoded data removed]",
      "text/plain": [
       "<Figure size 432x288 with 1 Axes>"
      ]
     },
     "metadata": {
      "needs_background": "light"
     },
     "output_type": "display_data"
    }
   ],
   "source": []
  },
  {
   "cell_type": "code",
   "execution_count": 73,
   "metadata": {},
   "outputs": [
    {
     "data": {
      "text/plain": [
       "Text(0, 0.5, 'Humidity')"
      ]
     },
     "execution_count": 73,
     "metadata": {},
     "output_type": "execute_result"
    },
    {
     "data": {
      "image/png": "[encoded data removed]",
      "text/plain": [
       "<Figure size 432x288 with 1 Axes>"
      ]
     },
     "metadata": {
      "needs_background": "light"
     },
     "output_type": "display_data"
    }
   ],
   "source": [
    "x_axis5=northern[\"Lat\"]\n",
    "y_axis5=northern[\"Humidity\"]\n",
    "\n",
    "plt.scatter(x_axis3, y_axis3, color=\"red\", facecolor=\"black\")\n",
    "plt.xlabel(\"Latitude\")\n",
    "plt.ylabel(\"Humidity\")\n"
   ]
  },
  {
   "cell_type": "markdown",
   "metadata": {},
   "source": [
    "####  Southern Hemisphere - Humidity (%) vs. Latitude Linear Regression"
   ]
  },
  {
   "cell_type": "code",
   "execution_count": 19,
   "metadata": {},
   "outputs": [
    {
     "name": "stdout",
     "output_type": "stream",
     "text": [
      "The r-squared is: 0.0008996079328825663\n"
     ]
    },
    {
     "data": {
      "image/png": "[encoded data removed]",
      "text/plain": [
       "<Figure size 432x288 with 1 Axes>"
      ]
     },
     "metadata": {
      "needs_background": "light"
     },
     "output_type": "display_data"
    }
   ],
   "source": []
  },
  {
   "cell_type": "code",
   "execution_count": 72,
   "metadata": {},
   "outputs": [
    {
     "data": {
      "text/plain": [
       "Text(0, 0.5, 'Humidity')"
      ]
     },
     "execution_count": 72,
     "metadata": {},
     "output_type": "execute_result"
    },
    {
     "data": {
      "image/png": "[encoded data removed]",
      "text/plain": [
       "<Figure size 432x288 with 1 Axes>"
      ]
     },
     "metadata": {
      "needs_background": "light"
     },
     "output_type": "display_data"
    }
   ],
   "source": [
    "x_axis6=southern[\"Lat\"]\n",
    "y_axis6=southern[\"Humidity\"]\n",
    "\n",
    "plt.scatter(x_axis3, y_axis3, color=\"red\", facecolor=\"black\")\n",
    "plt.xlabel(\"Latitude\")\n",
    "plt.ylabel(\"Humidity\")\n"
   ]
  },
  {
   "cell_type": "markdown",
   "metadata": {},
   "source": [
    "####  Northern Hemisphere - Cloudiness (%) vs. Latitude Linear Regression"
   ]
  },
  {
   "cell_type": "code",
   "execution_count": 20,
   "metadata": {},
   "outputs": [
    {
     "name": "stdout",
     "output_type": "stream",
     "text": [
      "The r-squared is: 0.05768812657005063\n"
     ]
    },
    {
     "data": {
      "image/png": "[encoded data removed]",
      "text/plain": [
       "<Figure size 432x288 with 1 Axes>"
      ]
     },
     "metadata": {
      "needs_background": "light"
     },
     "output_type": "display_data"
    }
   ],
   "source": []
  },
  {
   "cell_type": "code",
   "execution_count": 70,
   "metadata": {},
   "outputs": [
    {
     "data": {
      "text/plain": [
       "Text(0, 0.5, 'Cloudiness')"
      ]
     },
     "execution_count": 70,
     "metadata": {},
     "output_type": "execute_result"
    },
    {
     "data": {
      "image/png": "[encoded data removed]",
      "text/plain": [
       "<Figure size 432x288 with 1 Axes>"
      ]
     },
     "metadata": {
      "needs_background": "light"
     },
     "output_type": "display_data"
    }
   ],
   "source": [
    "x_axis7=northern[\"Lat\"]\n",
    "y_axis7=northern[\"Cloudiness\"]\n",
    "\n",
    "plt.scatter(x_axis3, y_axis3, color=\"red\", facecolor=\"black\")\n",
    "plt.xlabel(\"Latitude\")\n",
    "plt.ylabel(\"Cloudiness\")\n"
   ]
  },
  {
   "cell_type": "markdown",
   "metadata": {},
   "source": [
    "####  Southern Hemisphere - Cloudiness (%) vs. Latitude Linear Regression"
   ]
  },
  {
   "cell_type": "code",
   "execution_count": 21,
   "metadata": {},
   "outputs": [
    {
     "name": "stdout",
     "output_type": "stream",
     "text": [
      "The r-squared is: 0.0684912094859049\n"
     ]
    },
    {
     "data": {
      "image/png": "[encoded data removed]",
      "text/plain": [
       "<Figure size 432x288 with 1 Axes>"
      ]
     },
     "metadata": {
      "needs_background": "light"
     },
     "output_type": "display_data"
    }
   ],
   "source": []
  },
  {
   "cell_type": "code",
   "execution_count": 69,
   "metadata": {},
   "outputs": [
    {
     "data": {
      "text/plain": [
       "Text(0, 0.5, 'Cloudiness')"
      ]
     },
     "execution_count": 69,
     "metadata": {},
     "output_type": "execute_result"
    },
    {
     "data": {
      "image/png": "[encoded data removed]",
      "text/plain": [
       "<Figure size 432x288 with 1 Axes>"
      ]
     },
     "metadata": {
      "needs_background": "light"
     },
     "output_type": "display_data"
    }
   ],
   "source": [
    "x_axis8=southern[\"Lat\"]\n",
    "y_axis8=southern[\"Cloudiness\"]\n",
    "\n",
    "plt.scatter(x_axis3, y_axis3, color=\"red\", facecolor=\"black\")\n",
    "plt.xlabel(\"Latitude\")\n",
    "plt.ylabel(\"Cloudiness\")\n"
   ]
  },
  {
   "cell_type": "markdown",
   "metadata": {},
   "source": [
    "####  Northern Hemisphere - Wind Speed (mph) vs. Latitude Linear Regression"
   ]
  },
  {
   "cell_type": "code",
   "execution_count": 22,
   "metadata": {},
   "outputs": [
    {
     "name": "stdout",
     "output_type": "stream",
     "text": [
      "The r-squared is: 0.023371104533850804\n"
     ]
    },
    {
     "data": {
      "image/png": "[encoded data removed]",
      "text/plain": [
       "<Figure size 432x288 with 1 Axes>"
      ]
     },
     "metadata": {
      "needs_background": "light"
     },
     "output_type": "display_data"
    }
   ],
   "source": []
  },
  {
   "cell_type": "code",
   "execution_count": 68,
   "metadata": {},
   "outputs": [
    {
     "data": {
      "text/plain": [
       "Text(0, 0.5, 'Wind Speed (mph)')"
      ]
     },
     "execution_count": 68,
     "metadata": {},
     "output_type": "execute_result"
    },
    {
     "data": {
      "image/png": "[encoded data removed]",
      "text/plain": [
       "<Figure size 432x288 with 1 Axes>"
      ]
     },
     "metadata": {
      "needs_background": "light"
     },
     "output_type": "display_data"
    }
   ],
   "source": [
    "x_axis9=northern[\"Lat\"]\n",
    "y_axis9=northern[\"Wind Speed\"]\n",
    "\n",
    "plt.scatter(x_axis3, y_axis3, color=\"red\", facecolor=\"black\")\n",
    "plt.xlabel(\"Latitude\")\n",
    "plt.ylabel(\"Wind Speed (mph)\")\n"
   ]
  },
  {
   "cell_type": "markdown",
   "metadata": {},
   "source": [
    "####  Southern Hemisphere - Wind Speed (mph) vs. Latitude Linear Regression"
   ]
  },
  {
   "cell_type": "code",
   "execution_count": 23,
   "metadata": {},
   "outputs": [
    {
     "name": "stdout",
     "output_type": "stream",
     "text": [
      "The r-squared is: 0.03381889207758188\n"
     ]
    },
    {
     "data": {
      "image/png": "[encoded data removed]",
      "text/plain": [
       "<Figure size 432x288 with 1 Axes>"
      ]
     },
     "metadata": {
      "needs_background": "light"
     },
     "output_type": "display_data"
    }
   ],
   "source": []
  },
  {
   "cell_type": "code",
   "execution_count": 67,
   "metadata": {},
   "outputs": [
    {
     "data": {
      "text/plain": [
       "Text(0, 0.5, 'Wind Speed (mph)')"
      ]
     },
     "execution_count": 67,
     "metadata": {},
     "output_type": "execute_result"
    },
    {
     "data": {
      "image/png": "[encoded data removed]",
      "text/plain": [
       "<Figure size 432x288 with 1 Axes>"
      ]
     },
     "metadata": {
      "needs_background": "light"
     },
     "output_type": "display_data"
    }
   ],
   "source": [
    "x_axis10=southern[\"Lat\"]\n",
    "y_axis10=southern[\"Wind Speed\"]\n",
    "\n",
    "plt.scatter(x_axis3, y_axis3, color=\"red\", facecolor=\"black\")\n",
    "plt.xlabel(\"Latitude\")\n",
    "plt.ylabel(\"Wind Speed (mph)\")\n"
   ]
  },
  {
   "cell_type": "code",
   "execution_count": null,
   "metadata": {},
   "outputs": [],
   "source": []
  }
 ],
 "metadata": {
  "anaconda-cloud": {},
  "kernel_info": {
   "name": "python3"
  },
  "kernelspec": {
   "display_name": "Python [conda env:PythonData] *",
   "language": "python",
   "name": "conda-env-PythonData-py"
  },
  "language_info": {
   "codemirror_mode": {
    "name": "ipython",
    "version": 3
   },
   "file_extension": ".py",
   "mimetype": "text/x-python",
   "name": "python",
   "nbconvert_exporter": "python",
   "pygments_lexer": "ipython3",
   "version": "3.6.10"
  },
  "latex_envs": {
   "LaTeX_envs_menu_present": true,
   "autoclose": false,
   "autocomplete": true,
   "bibliofile": "biblio.bib",
   "cite_by": "apalike",
   "current_citInitial": 1,
   "eqLabelWithNumbers": true,
   "eqNumInitial": 1,
   "hotkeys": {
    "equation": "Ctrl-E",
    "itemize": "Ctrl-I"
   },
   "labels_anchors": false,
   "latex_user_defs": false,
   "report_style_numbering": false,
   "user_envs_cfg": false
  },
  "nteract": {
   "version": "0.12.3"
  }
 },
 "nbformat": 4,
 "nbformat_minor": 2
}
